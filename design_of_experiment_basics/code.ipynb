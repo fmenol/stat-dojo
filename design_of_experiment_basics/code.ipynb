{
 "cells": [
  {
   "cell_type": "markdown",
   "metadata": {},
   "source": [
    "## p-value calculation for a coin"
   ]
  },
  {
   "cell_type": "code",
   "execution_count": 1,
   "metadata": {},
   "outputs": [],
   "source": [
    "import math\n",
    "from random import random\n",
    "from scipy.stats import binom\n",
    "import matplotlib.pyplot as plt\n",
    "\n",
    "%matplotlib inline"
   ]
  },
  {
   "cell_type": "code",
   "execution_count": 2,
   "metadata": {},
   "outputs": [],
   "source": [
    "# binomial distribution\n",
    "def prob_binom(k, N, p):\n",
    "    return binom.pmf(k, N, p)\n",
    "#    return math.comb(N, k) * p ** k * (1 - p) ** (N - k)\n",
    "\n",
    "# calculate P-value for a coin assumin P(heads)=p:\n",
    "def get_p_value(k, N, p=0.5):\n",
    "    \n",
    "    # probability to have observation \n",
    "    stat_value = prob_binom(k, N, p)\n",
    "\n",
    "    p_val = stat_value\n",
    "\n",
    "    # add all smaller probabilities for i < k (left tail)\n",
    "    for i in range(0, k+1):\n",
    "        prob = prob_binom(i, N, p)\n",
    "        if prob < stat_value:\n",
    "            p_val += prob\n",
    "        else:\n",
    "            break\n",
    "\n",
    "    # add all smaller probabilities for i > k (right tail)\n",
    "    for i in range(N, k-1, -1):\n",
    "        prob = prob_binom(i, N, p)\n",
    "        if prob < stat_value:\n",
    "            p_val += prob\n",
    "        else:\n",
    "            break\n",
    "\n",
    "    return p_val"
   ]
  },
  {
   "cell_type": "code",
   "execution_count": 3,
   "metadata": {},
   "outputs": [
    {
     "data": {
      "text/plain": [
       "0.38331031799316406"
      ]
     },
     "execution_count": 3,
     "metadata": {},
     "output_type": "execute_result"
    }
   ],
   "source": [
    "# 1 - heads\n",
    "# 0 - tails\n",
    "N_FLIPS = 20\n",
    "P0 = 0.5\n",
    "\n",
    "\n",
    "observations = [int(random()<P0) for _ in range(N_FLIPS)]\n",
    "get_p_value(sum(observations), len(observations))"
   ]
  },
  {
   "cell_type": "markdown",
   "metadata": {},
   "source": [
    "## Visualize p-value calculation"
   ]
  },
  {
   "cell_type": "code",
   "execution_count": 4,
   "metadata": {},
   "outputs": [
    {
     "data": {
      "image/png": "[encoded data removed]",
      "text/plain": [
       "<Figure size 576x288 with 1 Axes>"
      ]
     },
     "metadata": {
      "needs_background": "light"
     },
     "output_type": "display_data"
    }
   ],
   "source": [
    "x = range(N_FLIPS)\n",
    "y= [prob_binom(i, N_FLIPS, 0.5) for i in x]\n",
    "data = list(zip(x, y))\n",
    "\n",
    "# exact probability of observed outcome\n",
    "obs_prob = prob_binom(sum(observations),\n",
    "                      len(observations),\n",
    "                      P0)\n",
    "\n",
    "\n",
    "data_lower_prob = list(filter(lambda x: x[1]<=obs_prob, data))\n",
    "data_higher_prob = list(filter(lambda x: x[1]>obs_prob, data))\n",
    "\n",
    "\n",
    "fig, ax = plt.subplots()\n",
    "fig.set_figwidth(8)\n",
    "fig.set_figheight(4)\n",
    "\n",
    "plt.bar(*zip(*data_lower_prob), width=1, \n",
    "        color = 'tomato',\n",
    "        edgecolor = 'black', lw = 1)\n",
    "\n",
    "\n",
    "if data_higher_prob:\n",
    "    plt.bar(*zip(*data_higher_prob), width=1, \n",
    "              color = 'whitesmoke',\n",
    "              edgecolor = 'black', lw = 1)\n",
    "\n",
    "\n",
    "plt.ylabel('probability')\n",
    "plt.xlabel('number of heads')\n",
    "\n",
    "plt.grid(False)\n",
    "    \n",
    "\n",
    "plt.show()"
   ]
  },
  {
   "cell_type": "markdown",
   "metadata": {},
   "source": [
    "## Significance level, type I error"
   ]
  },
  {
   "cell_type": "code",
   "execution_count": 5,
   "metadata": {},
   "outputs": [
    {
     "name": "stdout",
     "output_type": "stream",
     "text": [
      "CPU times: user 22.1 s, sys: 138 ms, total: 22.3 s\n",
      "Wall time: 22.3 s\n"
     ]
    }
   ],
   "source": [
    "%%time\n",
    "N_TESTS = 1000\n",
    "N_FLIPS = 200\n",
    "P0 = 0.5\n",
    "\n",
    "\n",
    "p_values_log = []\n",
    "\n",
    "# in all tests coins are fair:\n",
    "for _ in range(N_TESTS):\n",
    "    observations = [int(random()<P0) for _ in range(N_FLIPS)]\n",
    "    p_value = get_p_value(sum(observations), len(observations))\n",
    "    p_values_log.append(p_value)\n"
   ]
  },
  {
   "cell_type": "code",
   "execution_count": 6,
   "metadata": {},
   "outputs": [
    {
     "data": {
      "image/png": "[encoded data removed]",
      "text/plain": [
       "<Figure size 576x360 with 1 Axes>"
      ]
     },
     "metadata": {
      "needs_background": "light"
     },
     "output_type": "display_data"
    }
   ],
   "source": [
    "# selected significance level\n",
    "alpha = 0.1\n",
    "\n",
    "# number of histogram bins\n",
    "bin_nums = 10\n",
    "\n",
    "\n",
    "fig, ax = plt.subplots()\n",
    "fig.set_figwidth(8)\n",
    "fig.set_figheight(5)\n",
    "\n",
    "y, _, bars = ax.hist(p_values_log, bins=bin_nums, edgecolor = 'black', color='whitesmoke', lw = 1);\n",
    "\n",
    "for bar in bars:\n",
    "    if abs(bar.get_x()) <= alpha:\n",
    "        bar.set_facecolor('tomato')\n",
    "\n",
    "        \n",
    "plt.vlines(alpha, 0, 1.2*max(y), colors='black', lw=1, linestyles='--')\n",
    "\n",
    "plt.ylabel('counts')\n",
    "plt.xlabel('p-values')\n",
    "plt.ylim(0,1.2*max(y))\n",
    "plt.xlim(0,1)\n",
    "plt.grid(False)\n",
    "\n",
    "\n",
    "plt.show()"
   ]
  },
  {
   "cell_type": "code",
   "execution_count": 7,
   "metadata": {},
   "outputs": [
    {
     "name": "stdout",
     "output_type": "stream",
     "text": [
      "total number of trials: 1000\n",
      "├─concluded coin is fair: 908\n",
      "└─concluded coin is biased: 92\n"
     ]
    }
   ],
   "source": [
    "H0_accept = len(list(filter(lambda x: x>=alpha, p_values_log)))\n",
    "H0_reject = len(list(filter(lambda x: x<alpha, p_values_log)))\n",
    "\n",
    "\n",
    "print(f'total number of trials: {N_TESTS}')\n",
    "print(f'├─concluded coin is fair: {H0_accept}')\n",
    "print(f'└─concluded coin is biased: {H0_reject}')"
   ]
  },
  {
   "cell_type": "markdown",
   "metadata": {},
   "source": [
    "## Minimal Detectable Effect (MDE), Type II error"
   ]
  },
  {
   "cell_type": "code",
   "execution_count": 8,
   "metadata": {},
   "outputs": [],
   "source": [
    "def plot_segmented_bar(ax, data, *,\n",
    "                      thresh,\n",
    "                      fill_colors):\n",
    "    \n",
    "    lower_thresh, upper_thresh = thresh[0], thresh[1]\n",
    "    \n",
    "    data_left = list(filter(lambda x: x[0]<=lower_thresh, data))\n",
    "    data_middle = list(filter(lambda x: x[0]>lower_thresh and x[0]<upper_thresh, data))\n",
    "    data_right = list(filter(lambda x: x[0]>=upper_thresh, data))\n",
    "\n",
    "    plot_step_func(ax, data_left, fill_colors[0])\n",
    "    plot_step_func(ax, data_middle, fill_colors[1], True)\n",
    "    plot_step_func(ax, data_right, fill_colors[2])\n",
    "    \n",
    "\n",
    "def plot_step_func(ax, data, fill_color, show_area=False):\n",
    "    data = list(data)\n",
    "    x = [i[0]+0.5 for i in data]\n",
    "    x.insert(0, x[0]-1)\n",
    "    y = [i[1] for i in data]\n",
    "    if show_area:\n",
    "        print(sum(y))\n",
    "    y.insert(0, y[0])    \n",
    "\n",
    "    ax.step(x, y, color = 'black', lw = 1)\n",
    "    ax.fill_between(x, y, color = fill_color, step=\"pre\", alpha=1)"
   ]
  },
  {
   "cell_type": "code",
   "execution_count": 9,
   "metadata": {},
   "outputs": [
    {
     "name": "stdout",
     "output_type": "stream",
     "text": [
      "0.9113739198859054\n",
      "0.3773712418025527\n"
     ]
    },
    {
     "data": {
      "image/png": "[encoded data removed]",
      "text/plain": [
       "<Figure size 360x432 with 2 Axes>"
      ]
     },
     "metadata": {
      "needs_background": "light"
     },
     "output_type": "display_data"
    }
   ],
   "source": [
    "MDE = 0.2\n",
    "alpha = 0.1\n",
    "N_FLIPS = 100\n",
    "\n",
    "\n",
    "p_sum = 0\n",
    "for k in range(N_FLIPS):\n",
    "    p_sum += prob_binom(k, N_FLIPS, P0)\n",
    "    if p_sum >= alpha/2:\n",
    "        lower_thresh = k-1\n",
    "        break\n",
    "\n",
    "        \n",
    "p_sum = 0\n",
    "for k in range(N_FLIPS,0,-1):\n",
    "    p_sum += prob_binom(k, N_FLIPS, P0)\n",
    "    if p_sum >= alpha/2:\n",
    "        upper_thresh = k+1\n",
    "        break\n",
    "\n",
    "\n",
    "x = range(N_FLIPS)\n",
    "x_min = 0.2*N_FLIPS\n",
    "x_max = 0.8*N_FLIPS\n",
    "y_H0 = [prob_binom(i, N_FLIPS, P0) for i in x]\n",
    "data = list(zip(x, y_H0))\n",
    "\n",
    "\n",
    "# initialize plots\n",
    "fig, (ax1, ax2) = plt.subplots(2)\n",
    "fig.set_figwidth(5)\n",
    "fig.set_figheight(6)\n",
    "\n",
    "plot_segmented_bar(ax1, data, \n",
    "                   thresh=[lower_thresh, upper_thresh],\n",
    "                   fill_colors=['tomato', 'whitesmoke', 'tomato'])\n",
    "\n",
    "\n",
    "ax1.set_ylabel('probability')\n",
    "ax1.set_xlabel(None)\n",
    "ax1.set_xticklabels([])\n",
    "ax1.set_ylim(0,1.1*max(y_H0))\n",
    "#ax1.text(0,0.9*max(y_H0),\n",
    "#f\"\"\"probability of HEADS\n",
    "#P0={P0}\"\"\",fontsize=12)\n",
    "ax1.grid(False)\n",
    "ax1.vlines(lower_thresh+0.5, 0, 1.1*max(y_H0),colors='black', lw=1, linestyles='--')\n",
    "ax1.vlines(upper_thresh-0.5, 0, 1.1*max(y_H0),colors='black', lw=1, linestyles='--')\n",
    "ax1.set_xlim(x_min,x_max)\n",
    "\n",
    "# plot H1 distribution: right\n",
    "y_H1 = [0.5*prob_binom(i, N_FLIPS, P0*(1+MDE))+0.5*prob_binom(i, N_FLIPS, P0*(1-MDE)) for i in x]\n",
    "data = list(zip(x, y_H1))\n",
    "\n",
    "\n",
    "plot_segmented_bar(ax2, data, \n",
    "                   thresh=[lower_thresh, upper_thresh],\n",
    "                   fill_colors=['whitesmoke', 'royalblue', 'whitesmoke']\n",
    "                  )\n",
    "\n",
    "\n",
    "\n",
    "ax2.set_ylabel('probability')\n",
    "ax2.set_xlabel('number of heads')\n",
    "ax2.set_ylim(0,1.1*max(y_H0))\n",
    "ax2.set_xlim(x_min,x_max)\n",
    "#ax2.text(0,0.9*max(y_H0),f'probability of HEADS\\nP={P0*(1-MDE)} or P={P0*(1+MDE)}\\nPOWER={power:.2f}',fontsize=12)\n",
    "ax2.vlines(lower_thresh+0.5, 0, 1.1*max(y_H0),colors='black', lw=1, linestyles='--')\n",
    "ax2.vlines(upper_thresh-0.5, 0, 1.1*max(y_H0),colors='black', lw=1, linestyles='--')\n",
    "\n",
    "# for tick in ax2.get_xticklabels():\n",
    "#     tick.set_rotation(45)\n",
    "\n",
    "\n",
    "ax2.grid(False)\n",
    "fig.tight_layout()\n",
    "\n",
    "\n",
    "plt.show()\n"
   ]
  },
  {
   "cell_type": "markdown",
   "metadata": {},
   "source": [
    "## Power of the experiment, False Discovery Rate"
   ]
  },
  {
   "cell_type": "code",
   "execution_count": 10,
   "metadata": {},
   "outputs": [],
   "source": [
    "N_TESTS = 1000\n",
    "MDE = 0.2\n",
    "alpha = 0.1\n",
    "N_FLIPS = 100\n",
    "\n",
    "p_values_log = []\n",
    "\n",
    "\n",
    "# half coins are fair\n",
    "for _ in range(round(N_TESTS/2)):\n",
    "    # simulate fair coin observations\n",
    "    observations = [int(random()<P0) for _ in range(N_FLIPS)]\n",
    "    # test\n",
    "    p_value = get_p_value(sum(observations), len(observations))\n",
    "    p_values_log.append((p_value, P0))\n",
    "    \n",
    "# half coins are biased at MDE level\n",
    "for _ in range(round(N_TESTS/2)):\n",
    "    # simulate biased coin observations    \n",
    "    observations = [int(random()<P0*(1+MDE)) for _ in range(N_FLIPS)]\n",
    "    # test    \n",
    "    p_value = get_p_value(sum(observations), len(observations))\n",
    "    p_values_log.append((p_value, P0*(1+MDE)))\n"
   ]
  },
  {
   "cell_type": "code",
   "execution_count": 14,
   "metadata": {},
   "outputs": [
    {
     "name": "stdout",
     "output_type": "stream",
     "text": [
      "total 1000 coins\n",
      "|\n",
      "├──number of actually fair coins: 500\n",
      "|  ├─tested as fair: 459\n",
      "|  └─tested as biased: 41\n",
      "|\n",
      "└──number of actually biased coins: 500\n",
      "   ├─tested as fair: 182\n",
      "   └─tested as biased: 318\n",
      " \n",
      "Power is: 0.636\n",
      "False Discovery Rate is: 0.114\n"
     ]
    }
   ],
   "source": [
    "# count number of results for each coin type\n",
    "fair_coin_test = list(filter(lambda x: x[1]==P0, p_values_log))\n",
    "biased_coin_test = list(filter(lambda x: x[1]!=P0, p_values_log))\n",
    "\n",
    "fair_coin_H0_accepted = list(filter(lambda x: x[0]>=alpha, fair_coin_test))\n",
    "fair_coin_H0_rejected = list(filter(lambda x: x[0]<alpha, fair_coin_test))\n",
    "\n",
    "biased_coin_H0_accepted = list(filter(lambda x: x[0]>=alpha, biased_coin_test))\n",
    "biased_coin_H0_rejected = list(filter(lambda x: x[0]<alpha, biased_coin_test))\n",
    "\n",
    "print(f'total {N_TESTS} coins')\n",
    "print('|')\n",
    "print(f'├──number of actually fair coins: {len(fair_coin_test)}')\n",
    "print(f'|  ├─tested as fair: {len(fair_coin_H0_accepted)}')\n",
    "print(f'|  └─tested as biased: {len(fair_coin_H0_rejected)}')\n",
    "\n",
    "print('|')\n",
    "print(f'└──number of actually biased coins: {len(biased_coin_test)}')\n",
    "print(f'   ├─tested as fair: {len(biased_coin_H0_accepted)}')\n",
    "print(f'   └─tested as biased: {len(biased_coin_H0_rejected)}')\n",
    "\n",
    "print(' ')\n",
    "print(f'Power is: {len(biased_coin_H0_rejected)/len(biased_coin_test)}')\n",
    "print(f'False Discovery Rate is: {len(fair_coin_H0_rejected)/(len(fair_coin_H0_rejected)+len(biased_coin_H0_rejected)):.3f}')"
   ]
  },
  {
   "cell_type": "code",
   "execution_count": null,
   "metadata": {},
   "outputs": [],
   "source": []
  }
 ],
 "metadata": {
  "kernelspec": {
   "display_name": "Python 3",
   "language": "python",
   "name": "python3"
  },
  "language_info": {
   "codemirror_mode": {
    "name": "ipython",
    "version": 3
   },
   "file_extension": ".py",
   "mimetype": "text/x-python",
   "name": "python",
   "nbconvert_exporter": "python",
   "pygments_lexer": "ipython3",
   "version": "3.8.5"
  },
  "toc": {
   "base_numbering": 1,
   "nav_menu": {},
   "number_sections": false,
   "sideBar": true,
   "skip_h1_title": false,
   "title_cell": "Table of Contents",
   "title_sidebar": "Contents",
   "toc_cell": false,
   "toc_position": {},
   "toc_section_display": true,
   "toc_window_display": true
  }
 },
 "nbformat": 4,
 "nbformat_minor": 4
}
